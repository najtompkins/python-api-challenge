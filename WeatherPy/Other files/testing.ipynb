# Dependencies and Setup
# import matplotlib.pyplot as plt
# import pandas as pd
# import numpy as np
import requests
import time
# from scipy.stats import linregress
from pprint import pprint

# Impor the OpenWeatherMap API key
from api_keys import weather_api_key

# Import citipy to determine the cities based on latitude and longitude
from citipy import citipy

city = {'Orlando,Florida'}

url = "http://api.openweathermap.org/geo/1.0/direct?q="

city_url = f"{url}{city}&appid={weather_api_key}"

request = requests.get(city_url).json()

request
