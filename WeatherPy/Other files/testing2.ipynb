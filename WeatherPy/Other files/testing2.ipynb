{
 "cells": [
  {
   "cell_type": "code",
   "execution_count": 1,
   "metadata": {},
   "outputs": [
    {
     "name": "stdout",
     "output_type": "stream",
     "text": [
      "{'base': 'stations',\n",
      " 'clouds': {'all': 37},\n",
      " 'cod': 200,\n",
      " 'coord': {'lat': -5.1989, 'lon': -35.4608},\n",
      " 'dt': 1690217619,\n",
      " 'id': 3386213,\n",
      " 'main': {'feels_like': 303.58,\n",
      "          'grnd_level': 1014,\n",
      "          'humidity': 62,\n",
      "          'pressure': 1015,\n",
      "          'sea_level': 1015,\n",
      "          'temp': 301.62,\n",
      "          'temp_max': 301.62,\n",
      "          'temp_min': 301.62},\n",
      " 'name': 'Touros',\n",
      " 'sys': {'country': 'BR', 'sunrise': 1690187531, 'sunset': 1690230250},\n",
      " 'timezone': -10800,\n",
      " 'visibility': 10000,\n",
      " 'weather': [{'description': 'scattered clouds',\n",
      "              'icon': '03d',\n",
      "              'id': 802,\n",
      "              'main': 'Clouds'}],\n",
      " 'wind': {'deg': 132, 'gust': 9.82, 'speed': 8.33}}\n"
     ]
    }
   ],
   "source": [
    "# Dependencies and Setup\n",
    "# import matplotlib.pyplot as plt\n",
    "# import pandas as pd\n",
    "# import numpy as np\n",
    "import requests\n",
    "import time\n",
    "# from scipy.stats import linregress\n",
    "from pprint import pprint\n",
    "\n",
    "# Impor the OpenWeatherMap API key\n",
    "from api_keys import weather_api_key\n",
    "\n",
    "# Import citipy to determine the cities based on latitude and longitude\n",
    "from citipy import citipy\n",
    "\n",
    "city = 'touros'\n",
    "\n",
    "# url = \"https://api.openweathermap.org/data/2.5/weather?\"\n",
    "url = \"https://api.openweathermap.org/data/2.5/weather?\"\n",
    "\n",
    "\n",
    "# city_url = requests.get(f\"{url}q={city}&appid={weather_api_key}\")\n",
    "city_url = requests.get(f\"{url}q={city}&appid={weather_api_key}\")\n",
    "\n",
    "\n",
    "request = city_url.json()\n",
    "\n",
    "pprint(request)\n"
   ]
  },
  {
   "cell_type": "code",
   "execution_count": 21,
   "metadata": {},
   "outputs": [
    {
     "name": "stdout",
     "output_type": "stream",
     "text": [
      "-43.0167\n",
      "147.3167\n",
      "280.22\n",
      "79\n",
      "8\n",
      "2.4\n",
      "AU\n",
      "1690215664\n"
     ]
    }
   ],
   "source": [
    "city_weather = request\n",
    "city_lat = city_weather['coord']['lat']\n",
    "city_lng = city_weather['coord']['lon']\n",
    "city_max_temp = city_weather['main']['temp_max']\n",
    "city_humidity = city_weather['main']['humidity']\n",
    "city_clouds = city_weather['clouds']['all']\n",
    "city_wind = city_weather['wind']['speed']\n",
    "city_country = city_weather['sys']['country']\n",
    "city_date = city_weather['dt']\n",
    "\n",
    "print(city_lat)\n",
    "print(city_lng)\n",
    "print(city_max_temp)\n",
    "print(city_humidity)\n",
    "print(city_clouds)\n",
    "print(city_wind)\n",
    "print(city_country)\n",
    "print(city_date)"
   ]
  },
  {
   "cell_type": "code",
   "execution_count": null,
   "metadata": {},
   "outputs": [],
   "source": []
  }
 ],
 "metadata": {
  "kernelspec": {
   "display_name": "dev",
   "language": "python",
   "name": "python3"
  },
  "language_info": {
   "codemirror_mode": {
    "name": "ipython",
    "version": 3
   },
   "file_extension": ".py",
   "mimetype": "text/x-python",
   "name": "python",
   "nbconvert_exporter": "python",
   "pygments_lexer": "ipython3",
   "version": "3.10.11"
  },
  "orig_nbformat": 4
 },
 "nbformat": 4,
 "nbformat_minor": 2
}
